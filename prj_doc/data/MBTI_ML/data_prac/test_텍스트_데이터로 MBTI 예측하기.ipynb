{
  "cells": [
    {
      "cell_type": "markdown",
      "id": "QGyeDqCjBK9K",
      "metadata": {
        "id": "QGyeDqCjBK9K"
      },
      "source": [
        "# 텍스트 데이터로 MBTI 예측하기\n",
        "- 과제(task) : Text Classification\n",
        "- 데이터셋 : MBTI 500 [kaggle](https://www.kaggle.com/mercurio117/mbti-500/data)\n",
        "  - 전처리된 텍스트 데이터와 MBTI 유형으로 이루어짐\n",
        "- 주요 참고 코드 : [MBTI 500 - 84% Accuracy](https://www.kaggle.com/clebermarques/mbti-500-84-accuracy)\n"
      ]
    },
    {
      "cell_type": "code",
      "execution_count": 2,
      "id": "passive-personal",
      "metadata": {
        "id": "passive-personal"
      },
      "outputs": [],
      "source": [
        "import pandas as pd\n",
        "from sklearn.model_selection import train_test_split\n",
        "from sklearn.feature_extraction.text import TfidfVectorizer\n",
        "from sklearn.svm import LinearSVC\n",
        "from sklearn.pipeline import Pipeline\n",
        "from sklearn import metrics\n",
        "from sklearn.metrics import classification_report, f1_score\n",
        "import pickle\n",
        "import os.path\n",
        "import plotly.offline as pyo\n",
        "import plotly.graph_objs as go\n",
        "import spacy\n",
        "from nltk.stem.snowball import SnowballStemmer\n",
        "from sklearn.feature_extraction.text import CountVectorizer"
      ]
    },
    {
      "cell_type": "markdown",
      "id": "G3YbyjwVGJjI",
      "metadata": {
        "id": "G3YbyjwVGJjI"
      },
      "source": [
        "## 1. 데이터 로드 및 확인\n",
        "- kaggle에서 데이터 다운로드 후 `read_csv` 사용하여 데이터 로드\n",
        "- 훈련 데이터 : 74357개, 테스트 데이터 : 9337개\n",
        "- 훈련 데이터에만 MBTI `type` 컬럼 존재\n",
        "- 다른 MBTI 데이터셋([(MBTI) Myers-Briggs Personality Type Dataset](https://www.kaggle.com/datasnaek/mbti-type)) 과의 차이점 \n",
        "  - 데이터 크기가 크기 때문에 모델링 시에 연산량을 신경써야함\n",
        "  - 텍스트 데이터가 이미 전처리(tokenization / Stemming 또는 Lemmatization)가 되어 있음\n"
      ]
    },
    {
      "cell_type": "code",
      "execution_count": 92,
      "id": "naked-thursday",
      "metadata": {
        "colab": {
          "base_uri": "https://localhost:8080/",
          "height": 224
        },
        "id": "naked-thursday",
        "outputId": "395c998b-8411-4ebc-bdbc-bed6287ff855"
      },
      "outputs": [
        {
          "name": "stdout",
          "output_type": "stream",
          "text": [
            "(154706, 2) (10484, 1)\n"
          ]
        },
        {
          "data": {
            "text/html": [
              "<div>\n",
              "<style scoped>\n",
              "    .dataframe tbody tr th:only-of-type {\n",
              "        vertical-align: middle;\n",
              "    }\n",
              "\n",
              "    .dataframe tbody tr th {\n",
              "        vertical-align: top;\n",
              "    }\n",
              "\n",
              "    .dataframe thead th {\n",
              "        text-align: right;\n",
              "    }\n",
              "</style>\n",
              "<table border=\"1\" class=\"dataframe\">\n",
              "  <thead>\n",
              "    <tr style=\"text-align: right;\">\n",
              "      <th></th>\n",
              "      <th>type</th>\n",
              "      <th>posts</th>\n",
              "    </tr>\n",
              "  </thead>\n",
              "  <tbody>\n",
              "    <tr>\n",
              "      <th>0</th>\n",
              "      <td>ENFP</td>\n",
              "      <td>find something good anyone even people even me...</td>\n",
              "    </tr>\n",
              "    <tr>\n",
              "      <th>1</th>\n",
              "      <td>ENFP</td>\n",
              "      <td>freshman year high school spanish speak class ...</td>\n",
              "    </tr>\n",
              "    <tr>\n",
              "      <th>2</th>\n",
              "      <td>ENFP</td>\n",
              "      <td>pretty sure pretend fall asleep see boy would ...</td>\n",
              "    </tr>\n",
              "    <tr>\n",
              "      <th>3</th>\n",
              "      <td>ENFP</td>\n",
              "      <td>image relate fi emphasis self understand versu...</td>\n",
              "    </tr>\n",
              "    <tr>\n",
              "      <th>4</th>\n",
              "      <td>ENFP</td>\n",
              "      <td>clumsiness good get use sometimes pay attentio...</td>\n",
              "    </tr>\n",
              "  </tbody>\n",
              "</table>\n",
              "</div>"
            ],
            "text/plain": [
              "   type                                              posts\n",
              "0  ENFP  find something good anyone even people even me...\n",
              "1  ENFP  freshman year high school spanish speak class ...\n",
              "2  ENFP  pretty sure pretend fall asleep see boy would ...\n",
              "3  ENFP  image relate fi emphasis self understand versu...\n",
              "4  ENFP  clumsiness good get use sometimes pay attentio..."
            ]
          },
          "execution_count": 92,
          "metadata": {},
          "output_type": "execute_result"
        }
      ],
      "source": [
        "data_dir = './MBTI_dataset/'\n",
        "\n",
        "train = pd.read_csv(os.path.join(data_dir, 'MBTI_train_v7.csv'), encoding='ISO 8859-1', header=None, names=['type', 'posts'])\n",
        "test = pd.read_csv(os.path.join(data_dir, 'test_16_noanswer.csv'), encoding='utf-8-sig', header=None, names=['posts'])\n",
        "\n",
        "print(train.shape, test.shape) # 74357, 9337\n",
        "train.head()"
      ]
    },
    {
      "cell_type": "code",
      "execution_count": 46,
      "id": "dramatic-venture",
      "metadata": {
        "colab": {
          "base_uri": "https://localhost:8080/",
          "height": 206
        },
        "id": "dramatic-venture",
        "outputId": "4a0cb15a-00cf-40ac-d9d9-b909f5a7da48",
        "scrolled": true
      },
      "outputs": [
        {
          "data": {
            "text/html": [
              "<div>\n",
              "<style scoped>\n",
              "    .dataframe tbody tr th:only-of-type {\n",
              "        vertical-align: middle;\n",
              "    }\n",
              "\n",
              "    .dataframe tbody tr th {\n",
              "        vertical-align: top;\n",
              "    }\n",
              "\n",
              "    .dataframe thead th {\n",
              "        text-align: right;\n",
              "    }\n",
              "</style>\n",
              "<table border=\"1\" class=\"dataframe\">\n",
              "  <thead>\n",
              "    <tr style=\"text-align: right;\">\n",
              "      <th></th>\n",
              "      <th>posts</th>\n",
              "    </tr>\n",
              "  </thead>\n",
              "  <tbody>\n",
              "    <tr>\n",
              "      <th>0</th>\n",
              "      <td>Principles Somewhat impulsively What is possib...</td>\n",
              "    </tr>\n",
              "    <tr>\n",
              "      <th>1</th>\n",
              "      <td>Emotions Somewhat impulsively What is actual C...</td>\n",
              "    </tr>\n",
              "    <tr>\n",
              "      <th>2</th>\n",
              "      <td>Emotions Somewhat impulsively What is possible...</td>\n",
              "    </tr>\n",
              "    <tr>\n",
              "      <th>3</th>\n",
              "      <td>Principles Rather carefully What is actual Com...</td>\n",
              "    </tr>\n",
              "    <tr>\n",
              "      <th>4</th>\n",
              "      <td>Emotions Somewhat impulsively What is possible...</td>\n",
              "    </tr>\n",
              "  </tbody>\n",
              "</table>\n",
              "</div>"
            ],
            "text/plain": [
              "                                               posts\n",
              "0  Principles Somewhat impulsively What is possib...\n",
              "1  Emotions Somewhat impulsively What is actual C...\n",
              "2  Emotions Somewhat impulsively What is possible...\n",
              "3  Principles Rather carefully What is actual Com...\n",
              "4  Emotions Somewhat impulsively What is possible..."
            ]
          },
          "execution_count": 46,
          "metadata": {},
          "output_type": "execute_result"
        }
      ],
      "source": [
        "test.head()"
      ]
    },
    {
      "cell_type": "markdown",
      "id": "iCKWHBXaIUeU",
      "metadata": {
        "id": "iCKWHBXaIUeU"
      },
      "source": [
        "## 2. 모델 로드 또는 재생성 후 학습\n",
        "- 이미 저장된 모델이 있는 경우 해당 모델을 불러오고 그렇지 않다면 재생성하여 새로 학습시킴"
      ]
    },
    {
      "cell_type": "code",
      "execution_count": 93,
      "id": "empty-arctic",
      "metadata": {
        "id": "empty-arctic"
      },
      "outputs": [],
      "source": [
        "# 이미 만들어진 모델이 있어서 재생성해야하는지 여부를 지정\n",
        "recreate_model=False"
      ]
    },
    {
      "cell_type": "code",
      "execution_count": 94,
      "id": "seasonal-tribune",
      "metadata": {
        "id": "seasonal-tribune"
      },
      "outputs": [],
      "source": [
        "# 해당 이름의 모델 파일이 있다면 모델 학습을 수행하지 않음\n",
        "filename = 'mbti_svm_v2.sav'"
      ]
    },
    {
      "cell_type": "code",
      "execution_count": 95,
      "id": "norwegian-writer",
      "metadata": {
        "id": "norwegian-writer"
      },
      "outputs": [],
      "source": [
        "# 만약 모델이 존재하지 않는다면 모델을 재생성\n",
        "if not os.path.isfile(filename):\n",
        "    recreate_model=True"
      ]
    },
    {
      "cell_type": "code",
      "execution_count": 96,
      "id": "written-argentina",
      "metadata": {
        "id": "written-argentina"
      },
      "outputs": [],
      "source": [
        "X = train['posts'] # features\n",
        "y = train['type']  # labels\n",
        "X_train, X_test, y_train, y_test = train_test_split(X, y, test_size=0.2, random_state=42)"
      ]
    },
    {
      "cell_type": "code",
      "execution_count": 97,
      "id": "streaming-resort",
      "metadata": {
        "id": "streaming-resort"
      },
      "outputs": [],
      "source": [
        "# 모델 재생성 여부 확인\n",
        "if recreate_model:    \n",
        "    \n",
        "    # vectorizer 정의 및 fit_transform\n",
        "    vectorizer = TfidfVectorizer()\n",
        "    X_train_tfidf = vectorizer.fit_transform(X_train)\n",
        "    \n",
        "    # 훈련\n",
        "    clf = LinearSVC()\n",
        "    clf.fit(X_train_tfidf, y_train)\n",
        "    \n",
        "    # vectorizer 및 모델 파이프라인\n",
        "    text_clf = Pipeline([('tfidf',TfidfVectorizer()),('clf',LinearSVC())])\n",
        "    text_clf.fit(X_train, y_train)\n",
        "    \n",
        "    # 모델 저장\n",
        "    pickle.dump(text_clf, open(filename, 'wb'))\n",
        "\n",
        "# 모델 재생성하지 않으면 기존 저장된 모델 불러오기\n",
        "else:\n",
        "    # loading the model from disk\n",
        "    text_clf = pickle.load(open(filename, 'rb'))"
      ]
    },
    {
      "cell_type": "code",
      "execution_count": 98,
      "id": "diagnostic-haiti",
      "metadata": {
        "id": "diagnostic-haiti"
      },
      "outputs": [],
      "source": [
        "predictions = text_clf.predict(X_test)"
      ]
    },
    {
      "cell_type": "code",
      "execution_count": 99,
      "id": "suburban-telling",
      "metadata": {
        "colab": {
          "base_uri": "https://localhost:8080/"
        },
        "id": "suburban-telling",
        "outputId": "5b9fd84a-391d-4d22-843e-2f41fe5e43a0"
      },
      "outputs": [
        {
          "name": "stdout",
          "output_type": "stream",
          "text": [
            "              precision    recall  f1-score   support\n",
            "\n",
            "        ENFJ       0.92      0.73      0.81       284\n",
            "        ENFP       0.94      0.91      0.92      1622\n",
            "        ENTJ       0.94      0.90      0.92      1047\n",
            "        ENTP       0.96      0.93      0.94      4077\n",
            "        ESFJ       0.76      0.62      0.68       140\n",
            "        ESFP       0.81      0.66      0.73       188\n",
            "        ESTJ       0.71      0.83      0.76       248\n",
            "        ESTP       0.91      0.95      0.93       733\n",
            "        INFJ       0.95      0.94      0.95      5099\n",
            "        INFP       0.94      0.94      0.94      4272\n",
            "        INTJ       0.96      0.95      0.95      7518\n",
            "        INTP       0.90      0.95      0.92      4324\n",
            "        ISFJ       0.63      0.78      0.70       187\n",
            "        ISFP       0.79      0.70      0.74       234\n",
            "        ISTJ       0.78      0.78      0.78       292\n",
            "        ISTP       0.88      0.89      0.89       677\n",
            "\n",
            "    accuracy                           0.93     30942\n",
            "   macro avg       0.86      0.84      0.85     30942\n",
            "weighted avg       0.93      0.93      0.93     30942\n",
            "\n"
          ]
        }
      ],
      "source": [
        "print(classification_report(y_test, predictions))"
      ]
    },
    {
      "cell_type": "code",
      "execution_count": 100,
      "id": "72c1f30b",
      "metadata": {},
      "outputs": [
        {
          "name": "stdout",
          "output_type": "stream",
          "text": [
            "Overall accuracy of the model: 0.9297395126\n"
          ]
        }
      ],
      "source": [
        "print(f\"Overall accuracy of the model: {round(metrics.accuracy_score(y_test, predictions),10)}\")"
      ]
    },
    {
      "cell_type": "code",
      "execution_count": 102,
      "id": "1f001695",
      "metadata": {},
      "outputs": [
        {
          "name": "stdout",
          "output_type": "stream",
          "text": [
            "['INTP' 'INFP' 'INTP' ... 'INTP' 'INFP' 'ISTJ']\n"
          ]
        }
      ],
      "source": [
        "predictions = text_clf.predict(test['posts'])\n",
        "print(predictions)"
      ]
    },
    {
      "cell_type": "code",
      "execution_count": 105,
      "id": "070668f7",
      "metadata": {},
      "outputs": [],
      "source": [
        "import csv\n",
        "wf = open('test_16_pred.csv','a', newline='')\n",
        "wr = csv.writer(wf)\n",
        "wr.writerow(predictions)\n",
        "wf.close()"
      ]
    },
    {
      "cell_type": "markdown",
      "id": "899b2d64",
      "metadata": {},
      "source": [
        "## ver8\n",
        "- train: 70문항\n",
        "- test: 16문항\n",
        "- (557916, 2) (10484, 1)"
      ]
    },
    {
      "cell_type": "code",
      "execution_count": 73,
      "id": "12d2748e",
      "metadata": {},
      "outputs": [
        {
          "name": "stdout",
          "output_type": "stream",
          "text": [
            "Overall accuracy of the model: 0.9339152567\n"
          ]
        }
      ],
      "source": [
        "print(f\"Overall accuracy of the model: {round(metrics.accuracy_score(y_test, predictions),10)}\")"
      ]
    },
    {
      "cell_type": "markdown",
      "id": "5b5b359a",
      "metadata": {},
      "source": [
        "## ver7\n",
        "- train, test: 16문항\n",
        "- (692946, 2) (10484, 1)"
      ]
    },
    {
      "cell_type": "code",
      "execution_count": 63,
      "id": "5e8fdbd0",
      "metadata": {},
      "outputs": [
        {
          "name": "stdout",
          "output_type": "stream",
          "text": [
            "Overall accuracy of the model: 0.5090699185\n"
          ]
        }
      ],
      "source": [
        "print(f\"Overall accuracy of the model: {round(metrics.accuracy_score(y_test, predictions),10)}\")"
      ]
    },
    {
      "cell_type": "markdown",
      "id": "d293ad25",
      "metadata": {},
      "source": [
        "## ver6\n",
        "- train, test 모두 16문항\n",
        "- (230982, 2) (5242, 1)"
      ]
    },
    {
      "cell_type": "code",
      "execution_count": 54,
      "id": "2187b7e3",
      "metadata": {},
      "outputs": [
        {
          "name": "stdout",
          "output_type": "stream",
          "text": [
            "Overall accuracy of the model: 0.5121328225\n"
          ]
        }
      ],
      "source": [
        "print(f\"Overall accuracy of the model: {round(metrics.accuracy_score(y_test, predictions),10)}\")"
      ]
    },
    {
      "cell_type": "markdown",
      "id": "cc085b37",
      "metadata": {},
      "source": [
        "## ver5\n",
        "- train data 16문항"
      ]
    },
    {
      "cell_type": "code",
      "execution_count": 44,
      "id": "a9e72c83",
      "metadata": {},
      "outputs": [
        {
          "name": "stdout",
          "output_type": "stream",
          "text": [
            "Overall accuracy of the model: 0.5121328225\n"
          ]
        }
      ],
      "source": [
        "print(f\"Overall accuracy of the model: {round(metrics.accuracy_score(y_test, predictions),10)}\")"
      ]
    },
    {
      "cell_type": "code",
      "execution_count": 25,
      "id": "133042d5",
      "metadata": {},
      "outputs": [
        {
          "name": "stdout",
          "output_type": "stream",
          "text": [
            "['INTP' 'INFP' 'INTP' ... 'INTP' 'INFP' 'ISTJ']\n"
          ]
        }
      ],
      "source": [
        "predictions = text_clf.predict(test['posts'])\n",
        "print(predictions)"
      ]
    },
    {
      "cell_type": "code",
      "execution_count": 26,
      "id": "af3976df",
      "metadata": {},
      "outputs": [],
      "source": [
        "import csv\n",
        "wf = open('test_16_pred.csv','a', newline='')\n",
        "wr = csv.writer(wf)\n",
        "wr.writerow(predictions)\n",
        "wf.close()"
      ]
    },
    {
      "cell_type": "markdown",
      "id": "00c96e53",
      "metadata": {},
      "source": [
        "## ver4"
      ]
    },
    {
      "cell_type": "code",
      "execution_count": 52,
      "id": "b1034d93",
      "metadata": {},
      "outputs": [
        {
          "name": "stdout",
          "output_type": "stream",
          "text": [
            "Overall accuracy of the model: 0.9339152567\n"
          ]
        }
      ],
      "source": [
        "print(f\"Overall accuracy of the model: {round(metrics.accuracy_score(y_test, predictions),10)}\")"
      ]
    },
    {
      "cell_type": "markdown",
      "id": "99259248",
      "metadata": {},
      "source": [
        "## ver3.1"
      ]
    },
    {
      "cell_type": "code",
      "execution_count": 40,
      "id": "d4d991cb",
      "metadata": {},
      "outputs": [
        {
          "name": "stdout",
          "output_type": "stream",
          "text": [
            "Overall accuracy of the model: 0.8976018272\n"
          ]
        }
      ],
      "source": [
        "print(f\"Overall accuracy of the model: {round(metrics.accuracy_score(y_test, predictions),10)}\")"
      ]
    },
    {
      "cell_type": "markdown",
      "id": "1cde4613",
      "metadata": {},
      "source": [
        "## ver3"
      ]
    },
    {
      "cell_type": "code",
      "execution_count": 21,
      "id": "701b6631",
      "metadata": {},
      "outputs": [
        {
          "name": "stdout",
          "output_type": "stream",
          "text": [
            "Overall accuracy of the model: 0.3711781847\n"
          ]
        }
      ],
      "source": [
        "print(f\"Overall accuracy of the model: {round(metrics.accuracy_score(y_test, predictions),10)}\")"
      ]
    },
    {
      "cell_type": "markdown",
      "id": "0931f6c6",
      "metadata": {},
      "source": [
        "## ver2"
      ]
    },
    {
      "cell_type": "code",
      "execution_count": 13,
      "id": "conventional-child",
      "metadata": {
        "colab": {
          "base_uri": "https://localhost:8080/"
        },
        "id": "conventional-child",
        "outputId": "777e3d3a-8495-470b-f237-17e689837da5"
      },
      "outputs": [
        {
          "name": "stdout",
          "output_type": "stream",
          "text": [
            "Overall accuracy of the model: 0.8976018272\n"
          ]
        }
      ],
      "source": [
        "print(f\"Overall accuracy of the model: {round(metrics.accuracy_score(y_test, predictions),10)}\")"
      ]
    },
    {
      "cell_type": "code",
      "execution_count": null,
      "id": "fiscal-portuguese",
      "metadata": {
        "id": "fiscal-portuguese"
      },
      "outputs": [],
      "source": [
        "predictions = text_clf.predict(test['posts'])"
      ]
    },
    {
      "cell_type": "code",
      "execution_count": null,
      "id": "tamil-video",
      "metadata": {
        "colab": {
          "base_uri": "https://localhost:8080/"
        },
        "id": "tamil-video",
        "outputId": "f8e3e2b8-9836-4c93-b146-087ad1fffdd9"
      },
      "outputs": [
        {
          "name": "stdout",
          "output_type": "stream",
          "text": [
            "['ENFP' 'ENTP' 'INTJ' ... 'INTP' 'ENFP' 'INFP']\n"
          ]
        }
      ],
      "source": [
        "print(predictions)"
      ]
    },
    {
      "cell_type": "code",
      "execution_count": null,
      "id": "sEci97S0ZI_N",
      "metadata": {
        "colab": {
          "base_uri": "https://localhost:8080/",
          "height": 206
        },
        "id": "sEci97S0ZI_N",
        "outputId": "22d8e615-c456-431d-e6de-fcf7eb43ad13"
      },
      "outputs": [
        {
          "data": {
            "text/html": [
              "\n",
              "  <div id=\"df-2f984680-657e-46ce-bb9e-482be66b9b77\">\n",
              "    <div class=\"colab-df-container\">\n",
              "      <div>\n",
              "<style scoped>\n",
              "    .dataframe tbody tr th:only-of-type {\n",
              "        vertical-align: middle;\n",
              "    }\n",
              "\n",
              "    .dataframe tbody tr th {\n",
              "        vertical-align: top;\n",
              "    }\n",
              "\n",
              "    .dataframe thead th {\n",
              "        text-align: right;\n",
              "    }\n",
              "</style>\n",
              "<table border=\"1\" class=\"dataframe\">\n",
              "  <thead>\n",
              "    <tr style=\"text-align: right;\">\n",
              "      <th></th>\n",
              "      <th>0</th>\n",
              "    </tr>\n",
              "  </thead>\n",
              "  <tbody>\n",
              "    <tr>\n",
              "      <th>0</th>\n",
              "      <td>ENFP</td>\n",
              "    </tr>\n",
              "    <tr>\n",
              "      <th>1</th>\n",
              "      <td>ENTP</td>\n",
              "    </tr>\n",
              "    <tr>\n",
              "      <th>2</th>\n",
              "      <td>INTJ</td>\n",
              "    </tr>\n",
              "    <tr>\n",
              "      <th>3</th>\n",
              "      <td>INTJ</td>\n",
              "    </tr>\n",
              "    <tr>\n",
              "      <th>4</th>\n",
              "      <td>INTJ</td>\n",
              "    </tr>\n",
              "  </tbody>\n",
              "</table>\n",
              "</div>\n",
              "      <button class=\"colab-df-convert\" onclick=\"convertToInteractive('df-2f984680-657e-46ce-bb9e-482be66b9b77')\"\n",
              "              title=\"Convert this dataframe to an interactive table.\"\n",
              "              style=\"display:none;\">\n",
              "        \n",
              "  <svg xmlns=\"http://www.w3.org/2000/svg\" height=\"24px\"viewBox=\"0 0 24 24\"\n",
              "       width=\"24px\">\n",
              "    <path d=\"M0 0h24v24H0V0z\" fill=\"none\"/>\n",
              "    <path d=\"M18.56 5.44l.94 2.06.94-2.06 2.06-.94-2.06-.94-.94-2.06-.94 2.06-2.06.94zm-11 1L8.5 8.5l.94-2.06 2.06-.94-2.06-.94L8.5 2.5l-.94 2.06-2.06.94zm10 10l.94 2.06.94-2.06 2.06-.94-2.06-.94-.94-2.06-.94 2.06-2.06.94z\"/><path d=\"M17.41 7.96l-1.37-1.37c-.4-.4-.92-.59-1.43-.59-.52 0-1.04.2-1.43.59L10.3 9.45l-7.72 7.72c-.78.78-.78 2.05 0 2.83L4 21.41c.39.39.9.59 1.41.59.51 0 1.02-.2 1.41-.59l7.78-7.78 2.81-2.81c.8-.78.8-2.07 0-2.86zM5.41 20L4 18.59l7.72-7.72 1.47 1.35L5.41 20z\"/>\n",
              "  </svg>\n",
              "      </button>\n",
              "      \n",
              "  <style>\n",
              "    .colab-df-container {\n",
              "      display:flex;\n",
              "      flex-wrap:wrap;\n",
              "      gap: 12px;\n",
              "    }\n",
              "\n",
              "    .colab-df-convert {\n",
              "      background-color: #E8F0FE;\n",
              "      border: none;\n",
              "      border-radius: 50%;\n",
              "      cursor: pointer;\n",
              "      display: none;\n",
              "      fill: #1967D2;\n",
              "      height: 32px;\n",
              "      padding: 0 0 0 0;\n",
              "      width: 32px;\n",
              "    }\n",
              "\n",
              "    .colab-df-convert:hover {\n",
              "      background-color: #E2EBFA;\n",
              "      box-shadow: 0px 1px 2px rgba(60, 64, 67, 0.3), 0px 1px 3px 1px rgba(60, 64, 67, 0.15);\n",
              "      fill: #174EA6;\n",
              "    }\n",
              "\n",
              "    [theme=dark] .colab-df-convert {\n",
              "      background-color: #3B4455;\n",
              "      fill: #D2E3FC;\n",
              "    }\n",
              "\n",
              "    [theme=dark] .colab-df-convert:hover {\n",
              "      background-color: #434B5C;\n",
              "      box-shadow: 0px 1px 3px 1px rgba(0, 0, 0, 0.15);\n",
              "      filter: drop-shadow(0px 1px 2px rgba(0, 0, 0, 0.3));\n",
              "      fill: #FFFFFF;\n",
              "    }\n",
              "  </style>\n",
              "\n",
              "      <script>\n",
              "        const buttonEl =\n",
              "          document.querySelector('#df-2f984680-657e-46ce-bb9e-482be66b9b77 button.colab-df-convert');\n",
              "        buttonEl.style.display =\n",
              "          google.colab.kernel.accessAllowed ? 'block' : 'none';\n",
              "\n",
              "        async function convertToInteractive(key) {\n",
              "          const element = document.querySelector('#df-2f984680-657e-46ce-bb9e-482be66b9b77');\n",
              "          const dataTable =\n",
              "            await google.colab.kernel.invokeFunction('convertToInteractive',\n",
              "                                                     [key], {});\n",
              "          if (!dataTable) return;\n",
              "\n",
              "          const docLinkHtml = 'Like what you see? Visit the ' +\n",
              "            '<a target=\"_blank\" href=https://colab.research.google.com/notebooks/data_table.ipynb>data table notebook</a>'\n",
              "            + ' to learn more about interactive tables.';\n",
              "          element.innerHTML = '';\n",
              "          dataTable['output_type'] = 'display_data';\n",
              "          await google.colab.output.renderOutput(dataTable, element);\n",
              "          const docLink = document.createElement('div');\n",
              "          docLink.innerHTML = docLinkHtml;\n",
              "          element.appendChild(docLink);\n",
              "        }\n",
              "      </script>\n",
              "    </div>\n",
              "  </div>\n",
              "  "
            ],
            "text/plain": [
              "      0\n",
              "0  ENFP\n",
              "1  ENTP\n",
              "2  INTJ\n",
              "3  INTJ\n",
              "4  INTJ"
            ]
          },
          "execution_count": 16,
          "metadata": {},
          "output_type": "execute_result"
        }
      ],
      "source": [
        "# submission\n",
        "sub_dir = './sub'\n",
        "if not os.path.exists(sub_dir):\n",
        "  os.mkdir(sub_dir)\n",
        "\n",
        "sub = pd.DataFrame(predictions)\n",
        "assert sub.shape == test.shape\n",
        "sub.to_csv(os.path.join(sub_dir, 'baseline.csv'), index=False, header=None) # no header\n",
        "sub.head()"
      ]
    }
  ],
  "metadata": {
    "colab": {
      "name": "mbti+predction+codeshare.ipynb",
      "provenance": []
    },
    "kernelspec": {
      "display_name": "Python 3.9.7 ('base')",
      "language": "python",
      "name": "python3"
    },
    "language_info": {
      "codemirror_mode": {
        "name": "ipython",
        "version": 3
      },
      "file_extension": ".py",
      "mimetype": "text/x-python",
      "name": "python",
      "nbconvert_exporter": "python",
      "pygments_lexer": "ipython3",
      "version": "3.9.7"
    },
    "vscode": {
      "interpreter": {
        "hash": "ad2bdc8ecc057115af97d19610ffacc2b4e99fae6737bb82f5d7fb13d2f2c186"
      }
    }
  },
  "nbformat": 4,
  "nbformat_minor": 5
}
