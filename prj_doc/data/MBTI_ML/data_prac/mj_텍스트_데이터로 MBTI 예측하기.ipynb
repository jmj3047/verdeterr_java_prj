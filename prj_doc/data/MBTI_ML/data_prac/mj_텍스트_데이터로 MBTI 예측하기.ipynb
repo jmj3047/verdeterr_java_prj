{
  "cells": [
    {
      "cell_type": "markdown",
      "id": "QGyeDqCjBK9K",
      "metadata": {
        "id": "QGyeDqCjBK9K"
      },
      "source": [
        "# 텍스트 데이터로 MBTI 예측하기\n",
        "- 과제(task) : Text Classification\n",
        "- 데이터셋 : MBTI 500 [kaggle](https://www.kaggle.com/mercurio117/mbti-500/data)\n",
        "  - 전처리된 텍스트 데이터와 MBTI 유형으로 이루어짐\n",
        "- 주요 참고 코드 : [MBTI 500 - 84% Accuracy](https://www.kaggle.com/clebermarques/mbti-500-84-accuracy)\n"
      ]
    },
    {
      "cell_type": "code",
      "execution_count": 2,
      "id": "3daebddf",
      "metadata": {},
      "outputs": [
        {
          "name": "stdout",
          "output_type": "stream",
          "text": [
            "Collecting spacy\n",
            "  Downloading spacy-3.4.0-cp39-cp39-win_amd64.whl (11.8 MB)\n",
            "Collecting spacy-loggers<2.0.0,>=1.0.0\n",
            "  Downloading spacy_loggers-1.0.3-py3-none-any.whl (9.3 kB)\n",
            "Collecting pathy>=0.3.5\n",
            "  Downloading pathy-0.6.2-py3-none-any.whl (42 kB)\n",
            "Collecting cymem<2.1.0,>=2.0.2\n",
            "  Downloading cymem-2.0.6-cp39-cp39-win_amd64.whl (36 kB)\n",
            "Requirement already satisfied: setuptools in c:\\programdata\\anaconda3\\lib\\site-packages (from spacy) (58.0.4)\n",
            "Requirement already satisfied: tqdm<5.0.0,>=4.38.0 in c:\\programdata\\anaconda3\\lib\\site-packages (from spacy) (4.62.3)\n",
            "Collecting catalogue<2.1.0,>=2.0.6\n",
            "  Downloading catalogue-2.0.7-py3-none-any.whl (17 kB)\n",
            "Collecting thinc<8.2.0,>=8.1.0\n",
            "  Downloading thinc-8.1.0-cp39-cp39-win_amd64.whl (1.3 MB)\n",
            "Collecting wasabi<1.1.0,>=0.9.1\n",
            "  Downloading wasabi-0.9.1-py3-none-any.whl (26 kB)\n",
            "Requirement already satisfied: requests<3.0.0,>=2.13.0 in c:\\programdata\\anaconda3\\lib\\site-packages (from spacy) (2.26.0)\n",
            "Requirement already satisfied: numpy>=1.15.0 in c:\\programdata\\anaconda3\\lib\\site-packages (from spacy) (1.20.3)\n",
            "Collecting langcodes<4.0.0,>=3.2.0\n",
            "  Downloading langcodes-3.3.0-py3-none-any.whl (181 kB)\n",
            "Collecting murmurhash<1.1.0,>=0.28.0\n",
            "  Downloading murmurhash-1.0.7-cp39-cp39-win_amd64.whl (18 kB)\n",
            "Collecting preshed<3.1.0,>=3.0.2\n",
            "  Downloading preshed-3.0.6-cp39-cp39-win_amd64.whl (112 kB)\n",
            "Requirement already satisfied: jinja2 in c:\\programdata\\anaconda3\\lib\\site-packages (from spacy) (2.11.3)\n",
            "Collecting srsly<3.0.0,>=2.4.3\n",
            "  Downloading srsly-2.4.3-cp39-cp39-win_amd64.whl (448 kB)\n",
            "Collecting spacy-legacy<3.1.0,>=3.0.9\n",
            "  Downloading spacy_legacy-3.0.9-py2.py3-none-any.whl (20 kB)\n",
            "Collecting typer<0.5.0,>=0.3.0\n",
            "  Downloading typer-0.4.2-py3-none-any.whl (27 kB)\n",
            "Requirement already satisfied: packaging>=20.0 in c:\\programdata\\anaconda3\\lib\\site-packages (from spacy) (21.0)\n",
            "Collecting pydantic!=1.8,!=1.8.1,<1.10.0,>=1.7.4\n",
            "  Downloading pydantic-1.9.1-cp39-cp39-win_amd64.whl (2.0 MB)\n",
            "Requirement already satisfied: pyparsing>=2.0.2 in c:\\programdata\\anaconda3\\lib\\site-packages (from packaging>=20.0->spacy) (3.0.4)\n",
            "Collecting smart-open<6.0.0,>=5.2.1\n",
            "  Downloading smart_open-5.2.1-py3-none-any.whl (58 kB)\n",
            "Requirement already satisfied: typing-extensions>=3.7.4.3 in c:\\programdata\\anaconda3\\lib\\site-packages (from pydantic!=1.8,!=1.8.1,<1.10.0,>=1.7.4->spacy) (3.10.0.2)\n",
            "Requirement already satisfied: idna<4,>=2.5 in c:\\programdata\\anaconda3\\lib\\site-packages (from requests<3.0.0,>=2.13.0->spacy) (3.2)\n",
            "Requirement already satisfied: urllib3<1.27,>=1.21.1 in c:\\programdata\\anaconda3\\lib\\site-packages (from requests<3.0.0,>=2.13.0->spacy) (1.26.7)\n",
            "Requirement already satisfied: certifi>=2017.4.17 in c:\\programdata\\anaconda3\\lib\\site-packages (from requests<3.0.0,>=2.13.0->spacy) (2021.10.8)\n",
            "Requirement already satisfied: charset-normalizer~=2.0.0 in c:\\programdata\\anaconda3\\lib\\site-packages (from requests<3.0.0,>=2.13.0->spacy) (2.0.4)\n",
            "Collecting blis<0.8.0,>=0.7.8\n",
            "  Downloading blis-0.7.8-cp39-cp39-win_amd64.whl (6.6 MB)\n",
            "Requirement already satisfied: colorama in c:\\programdata\\anaconda3\\lib\\site-packages (from tqdm<5.0.0,>=4.38.0->spacy) (0.4.4)\n",
            "Requirement already satisfied: click<9.0.0,>=7.1.1 in c:\\programdata\\anaconda3\\lib\\site-packages (from typer<0.5.0,>=0.3.0->spacy) (8.0.3)\n",
            "Requirement already satisfied: MarkupSafe>=0.23 in c:\\programdata\\anaconda3\\lib\\site-packages (from jinja2->spacy) (1.1.1)\n",
            "Installing collected packages: murmurhash, cymem, catalogue, wasabi, typer, srsly, smart-open, pydantic, preshed, blis, thinc, spacy-loggers, spacy-legacy, pathy, langcodes, spacy\n",
            "Successfully installed blis-0.7.8 catalogue-2.0.7 cymem-2.0.6 langcodes-3.3.0 murmurhash-1.0.7 pathy-0.6.2 preshed-3.0.6 pydantic-1.9.1 smart-open-5.2.1 spacy-3.4.0 spacy-legacy-3.0.9 spacy-loggers-1.0.3 srsly-2.4.3 thinc-8.1.0 typer-0.4.2 wasabi-0.9.1\n"
          ]
        }
      ],
      "source": [
        "!pip install spacy"
      ]
    },
    {
      "cell_type": "code",
      "execution_count": 2,
      "id": "passive-personal",
      "metadata": {
        "id": "passive-personal"
      },
      "outputs": [],
      "source": [
        "import pandas as pd\n",
        "from sklearn.model_selection import train_test_split\n",
        "from sklearn.feature_extraction.text import TfidfVectorizer\n",
        "from sklearn.svm import LinearSVC\n",
        "from sklearn.pipeline import Pipeline\n",
        "from sklearn import metrics\n",
        "from sklearn.metrics import classification_report, f1_score\n",
        "import pickle\n",
        "import os.path\n",
        "import plotly.offline as pyo\n",
        "import plotly.graph_objs as go\n",
        "import spacy\n",
        "from nltk.stem.snowball import SnowballStemmer\n",
        "from sklearn.feature_extraction.text import CountVectorizer"
      ]
    },
    {
      "cell_type": "markdown",
      "id": "G3YbyjwVGJjI",
      "metadata": {
        "id": "G3YbyjwVGJjI"
      },
      "source": [
        "## 1. 데이터 로드 및 확인\n",
        "- kaggle에서 데이터 다운로드 후 `read_csv` 사용하여 데이터 로드\n",
        "- 훈련 데이터 : 74357개, 테스트 데이터 : 9337개\n",
        "- 훈련 데이터에만 MBTI `type` 컬럼 존재\n",
        "- 다른 MBTI 데이터셋([(MBTI) Myers-Briggs Personality Type Dataset](https://www.kaggle.com/datasnaek/mbti-type)) 과의 차이점 \n",
        "  - 데이터 크기가 크기 때문에 모델링 시에 연산량을 신경써야함\n",
        "  - 텍스트 데이터가 이미 전처리(tokenization / Stemming 또는 Lemmatization)가 되어 있음\n"
      ]
    },
    {
      "cell_type": "code",
      "execution_count": 3,
      "id": "cf64bf98",
      "metadata": {},
      "outputs": [],
      "source": [
        "import pandas as pd\n",
        "import sys\n",
        "if sys.version_info[0] < 3: \n",
        "    from StringIO import StringIO\n",
        "else:\n",
        "    from io import StringIO\n",
        "\n",
        "TESTDATA = StringIO(\"\"\"\n",
        "    typeestj1 typeestj2 typeestj3 typeestj4 typeestj5 typeestj6 typeestj7 typeestj8 typeestj9 typeestj10 typeestj11 typeestj12 typeestj13 typeestj14 typeestj15 typeestj16\n",
        "    \"\"\")\n",
        "\n",
        "value = 'typeestj1 typeestj2 typeestj3 typeestj4 typeestj5 typeestj6 typeestj7 typeestj8 typeestj9 typeestj10 typeestj11 typeestj12 typeestj13 typeestj14 typeestj15 typeestj16'\n",
        "test = pd.read_csv(TESTDATA, header=None, names=['posts'])"
      ]
    },
    {
      "cell_type": "code",
      "execution_count": 35,
      "id": "naked-thursday",
      "metadata": {
        "colab": {
          "base_uri": "https://localhost:8080/",
          "height": 224
        },
        "id": "naked-thursday",
        "outputId": "395c998b-8411-4ebc-bdbc-bed6287ff855"
      },
      "outputs": [
        {
          "name": "stdout",
          "output_type": "stream",
          "text": [
            "(91942, 2) (1, 1)\n"
          ]
        },
        {
          "data": {
            "text/html": [
              "<div>\n",
              "<style scoped>\n",
              "    .dataframe tbody tr th:only-of-type {\n",
              "        vertical-align: middle;\n",
              "    }\n",
              "\n",
              "    .dataframe tbody tr th {\n",
              "        vertical-align: top;\n",
              "    }\n",
              "\n",
              "    .dataframe thead th {\n",
              "        text-align: right;\n",
              "    }\n",
              "</style>\n",
              "<table border=\"1\" class=\"dataframe\">\n",
              "  <thead>\n",
              "    <tr style=\"text-align: right;\">\n",
              "      <th></th>\n",
              "      <th>type</th>\n",
              "      <th>posts</th>\n",
              "    </tr>\n",
              "  </thead>\n",
              "  <tbody>\n",
              "    <tr>\n",
              "      <th>0</th>\n",
              "      <td>INTJ</td>\n",
              "      <td>find article interest well actually religious ...</td>\n",
              "    </tr>\n",
              "    <tr>\n",
              "      <th>1</th>\n",
              "      <td>INTJ</td>\n",
              "      <td>say fully consciously aware big picture try st...</td>\n",
              "    </tr>\n",
              "    <tr>\n",
              "      <th>2</th>\n",
              "      <td>INTJ</td>\n",
              "      <td>torture eternity kill pretty quickly ever get ...</td>\n",
              "    </tr>\n",
              "    <tr>\n",
              "      <th>3</th>\n",
              "      <td>INTJ</td>\n",
              "      <td>twice discussion awhile ago nobody say regret ...</td>\n",
              "    </tr>\n",
              "    <tr>\n",
              "      <th>4</th>\n",
              "      <td>INTJ</td>\n",
              "      <td>consciously think material even tho intj prett...</td>\n",
              "    </tr>\n",
              "  </tbody>\n",
              "</table>\n",
              "</div>"
            ],
            "text/plain": [
              "   type                                              posts\n",
              "0  INTJ  find article interest well actually religious ...\n",
              "1  INTJ  say fully consciously aware big picture try st...\n",
              "2  INTJ  torture eternity kill pretty quickly ever get ...\n",
              "3  INTJ  twice discussion awhile ago nobody say regret ...\n",
              "4  INTJ  consciously think material even tho intj prett..."
            ]
          },
          "execution_count": 35,
          "metadata": {},
          "output_type": "execute_result"
        }
      ],
      "source": [
        "data_dir = './MBTI_dataset/'\n",
        "\n",
        "train = pd.read_csv(os.path.join(data_dir, 'MBTI_train.csv'), encoding='ISO 8859-1', header=None, names=['type', 'posts'])\n",
        "test = pd.read_csv(os.path.join(data_dir, 'MBTI_test_7.csv'), encoding='utf-8-sig', header=None, names=['posts'])\n",
        "\n",
        "print(train.shape, test.shape) # 74357, 9337 -> (90833, 2) (16313, 1)\n",
        "train.head()"
      ]
    },
    {
      "cell_type": "code",
      "execution_count": 36,
      "id": "dramatic-venture",
      "metadata": {
        "colab": {
          "base_uri": "https://localhost:8080/",
          "height": 206
        },
        "id": "dramatic-venture",
        "outputId": "4a0cb15a-00cf-40ac-d9d9-b909f5a7da48",
        "scrolled": true
      },
      "outputs": [
        {
          "data": {
            "text/html": [
              "<div>\n",
              "<style scoped>\n",
              "    .dataframe tbody tr th:only-of-type {\n",
              "        vertical-align: middle;\n",
              "    }\n",
              "\n",
              "    .dataframe tbody tr th {\n",
              "        vertical-align: top;\n",
              "    }\n",
              "\n",
              "    .dataframe thead th {\n",
              "        text-align: right;\n",
              "    }\n",
              "</style>\n",
              "<table border=\"1\" class=\"dataframe\">\n",
              "  <thead>\n",
              "    <tr style=\"text-align: right;\">\n",
              "      <th></th>\n",
              "      <th>posts</th>\n",
              "    </tr>\n",
              "  </thead>\n",
              "  <tbody>\n",
              "    <tr>\n",
              "      <th>0</th>\n",
              "      <td>Principles Somewhat impulsively What is actual...</td>\n",
              "    </tr>\n",
              "  </tbody>\n",
              "</table>\n",
              "</div>"
            ],
            "text/plain": [
              "                                               posts\n",
              "0  Principles Somewhat impulsively What is actual..."
            ]
          },
          "execution_count": 36,
          "metadata": {},
          "output_type": "execute_result"
        }
      ],
      "source": [
        "test.head()"
      ]
    },
    {
      "cell_type": "markdown",
      "id": "iCKWHBXaIUeU",
      "metadata": {
        "id": "iCKWHBXaIUeU"
      },
      "source": [
        "## 2. 모델 로드 또는 재생성 후 학습\n",
        "- 이미 저장된 모델이 있는 경우 해당 모델을 불러오고 그렇지 않다면 재생성하여 새로 학습시킴"
      ]
    },
    {
      "cell_type": "code",
      "execution_count": 37,
      "id": "empty-arctic",
      "metadata": {
        "id": "empty-arctic"
      },
      "outputs": [],
      "source": [
        "# 이미 만들어진 모델이 있어서 재생성해야하는지 여부를 지정\n",
        "recreate_model=False"
      ]
    },
    {
      "cell_type": "code",
      "execution_count": 38,
      "id": "seasonal-tribune",
      "metadata": {
        "id": "seasonal-tribune"
      },
      "outputs": [],
      "source": [
        "# 해당 이름의 모델 파일이 있다면 모델 학습을 수행하지 않음\n",
        "filename = 'mbti_svm_v10.sav'"
      ]
    },
    {
      "cell_type": "code",
      "execution_count": 39,
      "id": "norwegian-writer",
      "metadata": {
        "id": "norwegian-writer"
      },
      "outputs": [],
      "source": [
        "# 만약 모델이 존재하지 않는다면 모델을 재생성\n",
        "if not os.path.isfile(filename):\n",
        "    recreate_model=True"
      ]
    },
    {
      "cell_type": "code",
      "execution_count": 40,
      "id": "written-argentina",
      "metadata": {
        "id": "written-argentina"
      },
      "outputs": [],
      "source": [
        "X = train['posts'] # features\n",
        "y = train['type']  # labels\n",
        "X_train, X_test, y_train, y_test = train_test_split(X, y, test_size=0.2, random_state=42)"
      ]
    },
    {
      "cell_type": "code",
      "execution_count": 41,
      "id": "streaming-resort",
      "metadata": {
        "id": "streaming-resort"
      },
      "outputs": [],
      "source": [
        "# 모델 재생성 여부 확인\n",
        "if recreate_model:    \n",
        "    \n",
        "    # vectorizer 정의 및 fit_transform\n",
        "    vectorizer = TfidfVectorizer()\n",
        "    X_train_tfidf = vectorizer.fit_transform(X_train)\n",
        "    \n",
        "    # 훈련\n",
        "    clf = LinearSVC()\n",
        "    clf.fit(X_train_tfidf, y_train)\n",
        "    \n",
        "    # vectorizer 및 모델 파이프라인\n",
        "    text_clf = Pipeline([('tfidf',TfidfVectorizer()),('clf',LinearSVC())])\n",
        "    text_clf.fit(X_train, y_train)\n",
        "    \n",
        "    # 모델 저장\n",
        "    pickle.dump(text_clf, open(filename, 'wb'))\n",
        "\n",
        "# 모델 재생성하지 않으면 기존 저장된 모델 불러오기\n",
        "else:\n",
        "    # loading the model from disk\n",
        "    text_clf = pickle.load(open(filename, 'rb'))"
      ]
    },
    {
      "cell_type": "code",
      "execution_count": 42,
      "id": "diagnostic-haiti",
      "metadata": {
        "id": "diagnostic-haiti"
      },
      "outputs": [],
      "source": [
        "predictions = text_clf.predict(X_test)"
      ]
    },
    {
      "cell_type": "code",
      "execution_count": 12,
      "metadata": {},
      "outputs": [
        {
          "name": "stdout",
          "output_type": "stream",
          "text": [
            "<class 'list'>\n",
            "['INFP']\n"
          ]
        }
      ],
      "source": [
        "import numpy\n",
        "predictions = ['INFP']\n",
        "print(type(predictions))\n",
        "\n",
        "\n",
        "# predictions_slice = predictions[1,1]\n",
        "# prediction = numpy.array_str(predictions)\n",
        "# print(predictions_slice)"
      ]
    },
    {
      "cell_type": "markdown",
      "id": "ad5a663d",
      "metadata": {},
      "source": [
        "## ver10\n",
        "- 70문항 train\n",
        "- ESTJ"
      ]
    },
    {
      "cell_type": "code",
      "execution_count": 43,
      "id": "5b1a1bf8",
      "metadata": {},
      "outputs": [
        {
          "name": "stdout",
          "output_type": "stream",
          "text": [
            "['ESTJ']\n"
          ]
        }
      ],
      "source": [
        "predictions = text_clf.predict(test['posts'])\n",
        "print(predictions)"
      ]
    },
    {
      "cell_type": "markdown",
      "id": "c04ab860",
      "metadata": {},
      "source": [
        "## ver9\n",
        "- train 16문항 숫자 맞춰서(16_v2)\n",
        "- ESTP"
      ]
    },
    {
      "cell_type": "code",
      "execution_count": 34,
      "id": "b99243ff",
      "metadata": {},
      "outputs": [
        {
          "name": "stdout",
          "output_type": "stream",
          "text": [
            "['INFP']\n"
          ]
        }
      ],
      "source": [
        "predictions = text_clf.predict(test['posts'])\n",
        "print(predictions)"
      ]
    },
    {
      "cell_type": "markdown",
      "id": "bfccace5",
      "metadata": {},
      "source": [
        "## ver8\n",
        "-  ESTP"
      ]
    },
    {
      "cell_type": "code",
      "execution_count": 26,
      "id": "b4c7805e",
      "metadata": {},
      "outputs": [
        {
          "name": "stdout",
          "output_type": "stream",
          "text": [
            "['INFP']\n"
          ]
        }
      ],
      "source": [
        "predictions = text_clf.predict(test['posts'])\n",
        "print(predictions)"
      ]
    },
    {
      "cell_type": "markdown",
      "id": "9f796971",
      "metadata": {},
      "source": [
        "## ver7\n",
        "- 70문항으로 train\n",
        "- ENTP"
      ]
    },
    {
      "cell_type": "code",
      "execution_count": 18,
      "id": "1dd6210d",
      "metadata": {},
      "outputs": [
        {
          "name": "stdout",
          "output_type": "stream",
          "text": [
            "['ESTJ']\n"
          ]
        }
      ],
      "source": [
        "predictions = text_clf.predict(test['posts'])\n",
        "print(predictions)"
      ]
    },
    {
      "cell_type": "markdown",
      "id": "698a2858",
      "metadata": {},
      "source": [
        "## ver6\n",
        "- 16문항으로 train\n",
        "- 원래 정답: ENTP"
      ]
    },
    {
      "cell_type": "code",
      "execution_count": 10,
      "id": "ea71280c",
      "metadata": {},
      "outputs": [
        {
          "name": "stdout",
          "output_type": "stream",
          "text": [
            "['ESTJ']\n"
          ]
        }
      ],
      "source": [
        "predictions = text_clf.predict(test['posts'])\n",
        "print(predictions)"
      ]
    },
    {
      "cell_type": "markdown",
      "id": "a96c354c",
      "metadata": {},
      "source": [
        "## ver5\n",
        "- train data 기존 70문항\n",
        "- test data 16문항\n",
        "- 원래 정답: ENTP"
      ]
    },
    {
      "cell_type": "code",
      "execution_count": 9,
      "id": "f488421e",
      "metadata": {},
      "outputs": [
        {
          "name": "stdout",
          "output_type": "stream",
          "text": [
            "['ESTJ']\n"
          ]
        }
      ],
      "source": [
        "predictions = text_clf.predict(test['posts'])\n",
        "print(predictions)"
      ]
    },
    {
      "cell_type": "markdown",
      "id": "37b92e1d",
      "metadata": {},
      "source": [
        "## ver4\n",
        "- 원래 정답: ISTP"
      ]
    },
    {
      "cell_type": "code",
      "execution_count": 33,
      "id": "ae54dcf4",
      "metadata": {},
      "outputs": [
        {
          "name": "stdout",
          "output_type": "stream",
          "text": [
            "['INTP']\n"
          ]
        }
      ],
      "source": [
        "predictions = text_clf.predict(test['posts'])\n",
        "print(predictions)"
      ]
    },
    {
      "cell_type": "markdown",
      "id": "4a7a50e7",
      "metadata": {},
      "source": [
        "## ver3.1"
      ]
    },
    {
      "cell_type": "code",
      "execution_count": 27,
      "id": "3d0b86b9",
      "metadata": {},
      "outputs": [
        {
          "name": "stdout",
          "output_type": "stream",
          "text": [
            "['INTP']\n"
          ]
        }
      ],
      "source": [
        "predictions = text_clf.predict(test['posts'])\n",
        "print(predictions)\n"
      ]
    },
    {
      "cell_type": "markdown",
      "id": "edd6b7f7",
      "metadata": {},
      "source": [
        "## ver3\n",
        "- 원래정답: ENFP\n",
        "- 실제 답: INTP"
      ]
    },
    {
      "cell_type": "code",
      "execution_count": 17,
      "id": "94910a16",
      "metadata": {},
      "outputs": [
        {
          "name": "stdout",
          "output_type": "stream",
          "text": [
            "['INTP']\n"
          ]
        }
      ],
      "source": [
        "predictions = text_clf.predict(test['posts'])\n",
        "print(predictions)\n"
      ]
    },
    {
      "cell_type": "markdown",
      "id": "be3990b2",
      "metadata": {},
      "source": [
        "## ver2\n",
        "- 원래 정답: ESFJ\n",
        "- 모델 답: ESFJ\n",
        "    "
      ]
    },
    {
      "cell_type": "code",
      "execution_count": 10,
      "id": "08cbdcf6",
      "metadata": {},
      "outputs": [
        {
          "name": "stdout",
          "output_type": "stream",
          "text": [
            "['ESFJ']\n"
          ]
        }
      ],
      "source": [
        "predictions = text_clf.predict(test['posts'])\n",
        "print(predictions)"
      ]
    },
    {
      "cell_type": "markdown",
      "id": "94c98913",
      "metadata": {},
      "source": [
        "## ver 1 \n",
        " - 원래 정답: ISFP\n",
        " - 모델 답: ISFJ"
      ]
    },
    {
      "cell_type": "code",
      "execution_count": 41,
      "id": "21094193",
      "metadata": {},
      "outputs": [
        {
          "name": "stdout",
          "output_type": "stream",
          "text": [
            "['ISFJ']\n"
          ]
        }
      ],
      "source": [
        "predictions = text_clf.predict(test['posts'])\n",
        "print(predictions)"
      ]
    },
    {
      "cell_type": "markdown",
      "id": "57571a3f",
      "metadata": {},
      "source": [
        "## ver 0"
      ]
    },
    {
      "cell_type": "code",
      "execution_count": 25,
      "id": "suburban-telling",
      "metadata": {
        "colab": {
          "base_uri": "https://localhost:8080/"
        },
        "id": "suburban-telling",
        "outputId": "5b9fd84a-391d-4d22-843e-2f41fe5e43a0"
      },
      "outputs": [
        {
          "name": "stdout",
          "output_type": "stream",
          "text": [
            "              precision    recall  f1-score   support\n",
            "\n",
            "        ENFJ       0.84      0.49      0.62       253\n",
            "        ENFP       0.81      0.73      0.77      1049\n",
            "        ENTJ       0.87      0.75      0.80       552\n",
            "        ENTP       0.84      0.82      0.83      2017\n",
            "        ESFJ       0.55      0.28      0.37        39\n",
            "        ESFP       0.81      0.47      0.59        92\n",
            "        ESTJ       0.77      0.76      0.76        90\n",
            "        ESTP       0.91      0.91      0.91       336\n",
            "        INFJ       0.81      0.83      0.82      2491\n",
            "        INFP       0.79      0.82      0.81      2058\n",
            "        INTJ       0.82      0.86      0.84      3761\n",
            "        INTP       0.84      0.88      0.86      4346\n",
            "        ISFJ       0.65      0.50      0.57       117\n",
            "        ISFP       0.72      0.57      0.63       174\n",
            "        ISTJ       0.77      0.56      0.65       230\n",
            "        ISTP       0.83      0.77      0.80       562\n",
            "\n",
            "    accuracy                           0.82     18167\n",
            "   macro avg       0.79      0.69      0.73     18167\n",
            "weighted avg       0.82      0.82      0.82     18167\n",
            "\n"
          ]
        }
      ],
      "source": [
        "print(classification_report(y_test, predictions))"
      ]
    },
    {
      "cell_type": "code",
      "execution_count": 26,
      "id": "conventional-child",
      "metadata": {
        "colab": {
          "base_uri": "https://localhost:8080/"
        },
        "id": "conventional-child",
        "outputId": "777e3d3a-8495-470b-f237-17e689837da5"
      },
      "outputs": [
        {
          "name": "stdout",
          "output_type": "stream",
          "text": [
            "Overall accuracy of the model: 0.8225353663\n"
          ]
        }
      ],
      "source": [
        "print(f\"Overall accuracy of the model: {round(metrics.accuracy_score(y_test, predictions),10)}\")"
      ]
    },
    {
      "cell_type": "code",
      "execution_count": 27,
      "id": "fiscal-portuguese",
      "metadata": {
        "id": "fiscal-portuguese"
      },
      "outputs": [],
      "source": [
        "predictions = text_clf.predict(test['posts'])"
      ]
    },
    {
      "cell_type": "code",
      "execution_count": 28,
      "id": "tamil-video",
      "metadata": {
        "colab": {
          "base_uri": "https://localhost:8080/"
        },
        "id": "tamil-video",
        "outputId": "f8e3e2b8-9836-4c93-b146-087ad1fffdd9"
      },
      "outputs": [
        {
          "name": "stdout",
          "output_type": "stream",
          "text": [
            "['INFJ' 'ENFJ' 'INTP' ... 'ENTP' 'ISTP' 'ISTP']\n"
          ]
        }
      ],
      "source": [
        "print(predictions)"
      ]
    },
    {
      "cell_type": "code",
      "execution_count": 29,
      "id": "sEci97S0ZI_N",
      "metadata": {
        "colab": {
          "base_uri": "https://localhost:8080/",
          "height": 206
        },
        "id": "sEci97S0ZI_N",
        "outputId": "22d8e615-c456-431d-e6de-fcf7eb43ad13"
      },
      "outputs": [
        {
          "data": {
            "text/html": [
              "<div>\n",
              "<style scoped>\n",
              "    .dataframe tbody tr th:only-of-type {\n",
              "        vertical-align: middle;\n",
              "    }\n",
              "\n",
              "    .dataframe tbody tr th {\n",
              "        vertical-align: top;\n",
              "    }\n",
              "\n",
              "    .dataframe thead th {\n",
              "        text-align: right;\n",
              "    }\n",
              "</style>\n",
              "<table border=\"1\" class=\"dataframe\">\n",
              "  <thead>\n",
              "    <tr style=\"text-align: right;\">\n",
              "      <th></th>\n",
              "      <th>0</th>\n",
              "    </tr>\n",
              "  </thead>\n",
              "  <tbody>\n",
              "    <tr>\n",
              "      <th>0</th>\n",
              "      <td>INFJ</td>\n",
              "    </tr>\n",
              "    <tr>\n",
              "      <th>1</th>\n",
              "      <td>ENFJ</td>\n",
              "    </tr>\n",
              "    <tr>\n",
              "      <th>2</th>\n",
              "      <td>INTP</td>\n",
              "    </tr>\n",
              "    <tr>\n",
              "      <th>3</th>\n",
              "      <td>ENFJ</td>\n",
              "    </tr>\n",
              "    <tr>\n",
              "      <th>4</th>\n",
              "      <td>ENFJ</td>\n",
              "    </tr>\n",
              "  </tbody>\n",
              "</table>\n",
              "</div>"
            ],
            "text/plain": [
              "      0\n",
              "0  INFJ\n",
              "1  ENFJ\n",
              "2  INTP\n",
              "3  ENFJ\n",
              "4  ENFJ"
            ]
          },
          "execution_count": 29,
          "metadata": {},
          "output_type": "execute_result"
        }
      ],
      "source": [
        "# submission\n",
        "sub_dir = './sub'\n",
        "if not os.path.exists(sub_dir):\n",
        "  os.mkdir(sub_dir)\n",
        "\n",
        "sub = pd.DataFrame(predictions)\n",
        "assert sub.shape == test.shape\n",
        "sub.to_csv(os.path.join(sub_dir, 'baseline.csv'), index=False, header=None) # no header\n",
        "sub.head()"
      ]
    }
  ],
  "metadata": {
    "colab": {
      "name": "mbti+predction+codeshare.ipynb",
      "provenance": []
    },
    "kernelspec": {
      "display_name": "Python 3.9.7 ('base')",
      "language": "python",
      "name": "python3"
    },
    "language_info": {
      "codemirror_mode": {
        "name": "ipython",
        "version": 3
      },
      "file_extension": ".py",
      "mimetype": "text/x-python",
      "name": "python",
      "nbconvert_exporter": "python",
      "pygments_lexer": "ipython3",
      "version": "3.9.7"
    },
    "vscode": {
      "interpreter": {
        "hash": "ad2bdc8ecc057115af97d19610ffacc2b4e99fae6737bb82f5d7fb13d2f2c186"
      }
    }
  },
  "nbformat": 4,
  "nbformat_minor": 5
}
